{
 "cells": [
  {
   "cell_type": "code",
   "execution_count": 1,
   "metadata": {},
   "outputs": [],
   "source": [
    "import numpy as np\n",
    "from scipy.fftpack import fft2, ifft2, fftshift, ifftshift\n",
    "from scipy.signal import fftconvolve\n",
    "from bm3d import gaussian_kernel\n",
    "from scipy.signal import convolve2d\n",
    "import matplotlib.pyplot as plt\n",
    "from PIL import Image"
   ]
  },
  {
   "cell_type": "code",
   "execution_count": 2,
   "metadata": {},
   "outputs": [],
   "source": [
    "def get_experiment_kernel(noise_type: str, noise_var: float, sz: tuple = np.array((101, 101))):\n",
    "    \"\"\"\n",
    "    Get kernel for generating noise from specific experiment from the paper.\n",
    "    :param noise_type: Noise type string, g[0-4](w|)\n",
    "    :param noise_var: noise variance\n",
    "    :param sz: size of image, used only for g4 and g4w\n",
    "    :return: experiment kernel with the l2-norm equal to variance\n",
    "    \"\"\"\n",
    "    # if noiseType == gw / g0\n",
    "    kernel = np.array([[1]])\n",
    "    noise_types = ['gw', 'g0', 'g1', 'g2', 'g3', 'g4', 'g1w', 'g2w', 'g3w', 'g4w']\n",
    "    if noise_type not in noise_types:\n",
    "        raise ValueError(\"Noise type must be one of \" + str(noise_types))\n",
    "\n",
    "    if noise_type != \"g4\" and noise_type != \"g4w\":\n",
    "        # Crop this size of kernel when generating,\n",
    "        # unless pink noise, in which\n",
    "        # if noiseType == we want to use the full image size\n",
    "        sz = np.array([101, 101])\n",
    "    else:\n",
    "        sz = np.array(sz)\n",
    "\n",
    "    # Sizes for meshgrids\n",
    "    sz2 = -(1 - (sz % 2)) * 1 + np.floor(sz / 2)\n",
    "    sz1 = np.floor(sz / 2)\n",
    "    uu, vv = np.meshgrid([i for i in range(-int(sz1[0]), int(sz2[0]) + 1)],\n",
    "                         [i for i in range(-int(sz1[1]), int(sz2[1]) + 1)])\n",
    "\n",
    "    beta = 0.8\n",
    "\n",
    "    if noise_type[0:2] == 'g1':\n",
    "        # Horizontal line\n",
    "        kernel = np.atleast_2d(16 - abs(np.linspace(1, 31, 31) - 16))\n",
    "\n",
    "    elif noise_type[0:2] == 'g2':\n",
    "        # Circular repeating pattern\n",
    "        scale = 1\n",
    "        dist = uu ** 2 + vv ** 2\n",
    "        kernel = np.cos(np.sqrt(dist) / scale) * gaussian_kernel((sz[0], sz[1]), 10)\n",
    "\n",
    "    elif noise_type[0:2] == 'g3':\n",
    "        # Diagonal line pattern kernel\n",
    "        scale = 1\n",
    "        kernel = np.cos((uu + vv) / scale) * gaussian_kernel((sz[0], sz[1]), 10)\n",
    "\n",
    "    elif noise_type[0:2] == 'g4':\n",
    "        # Pink noise\n",
    "        dist = uu ** 2 + vv ** 2\n",
    "        n = sz[0] * sz[1]\n",
    "        spec = (np.sqrt((np.sqrt(n) * 1e-2) / (np.sqrt(dist) + np.sqrt(n) * 1e-2)))\n",
    "        kernel = fftshift(ifft2(ifftshift(spec)))\n",
    "\n",
    "    else:  # gw and g0 are white\n",
    "        beta = 0\n",
    "\n",
    "    # -- Noise with additional white component --\n",
    "\n",
    "    if len(noise_type) > 2 and noise_type[2] == 'w':\n",
    "        kernel = kernel / np.sqrt(np.sum(kernel ** 2))\n",
    "        kalpha = np.sqrt((1 - beta) + beta * abs(fft2(kernel, (sz[0], sz[1]))) ** 2)\n",
    "        kernel = fftshift(ifft2(kalpha))\n",
    "\n",
    "    kernel = np.real(kernel)\n",
    "    # Correct variance\n",
    "    kernel = kernel / np.sqrt(np.sum(kernel ** 2)) * np.sqrt(noise_var)\n",
    "\n",
    "    return kernel"
   ]
  },
  {
   "cell_type": "code",
   "execution_count": 3,
   "metadata": {},
   "outputs": [],
   "source": [
    "def get_experiment_noise(noise_type: str, noise_var: float, realization: int, sz: tuple)\\\n",
    "        -> (np.ndarray, np.ndarray, np.ndarray):\n",
    "    \"\"\"\n",
    "    Generate noise for experiment with specified kernel, variance, seed and size.\n",
    "    Return noise and relevant parameters.\n",
    "    The generated noise is non-circular.\n",
    "    :param noise_type: Noise type, see get_experiment_kernel for list of accepted types.\n",
    "    :param noise_var: Noise variance of the resulting noise\n",
    "    :param realization: Seed for the noise realization\n",
    "    :param sz: image size -> size of resulting noise\n",
    "    :return: noise, PSD, and kernel\n",
    "    \"\"\"\n",
    "    np.random.seed(realization)\n",
    "\n",
    "    # Get pre-specified kernel\n",
    "    kernel = get_experiment_kernel(noise_type, noise_var, sz)\n",
    "\n",
    "    # Create noisy image\n",
    "    half_kernel = np.ceil(np.array(kernel.shape) / 2)\n",
    "\n",
    "    if len(sz) == 3 and half_kernel.size == 2:\n",
    "        half_kernel = [half_kernel[0], half_kernel[1], 0]\n",
    "        kernel = np.atleast_3d(kernel)\n",
    "\n",
    "    half_kernel = np.array(half_kernel, dtype=int)\n",
    "\n",
    "    # Crop edges\n",
    "    # noise = fftconvolve(np.random.normal(size=(sz + 2 * half_kernel)), kernel, mode='same')\n",
    "    noise = fftconvolve(np.random.normal(size=(sz + 2 * half_kernel)), kernel, mode='same')\n",
    "    noise = np.atleast_3d(noise)[half_kernel[0]:-half_kernel[0], half_kernel[1]:-half_kernel[1], :]\n",
    "\n",
    "    psd = abs(fft2(kernel, (sz[0], sz[1]), axes=(0, 1))) ** 2 * sz[0] * sz[1]\n",
    "\n",
    "    return noise, psd, kernel"
   ]
  },
  {
   "cell_type": "code",
   "execution_count": 4,
   "metadata": {},
   "outputs": [
    {
     "name": "stdout",
     "output_type": "stream",
     "text": [
      "(512, 512)\n"
     ]
    }
   ],
   "source": [
    "imagepath = 'dataset/dataset_structure'\n",
    "imagename = imagepath + '/ref/1.png'\n",
    "# Load noise-free image\n",
    "image = Image.open(imagename).convert('L')\n",
    "image = np.array(image)\n",
    "print(image.shape)"
   ]
  },
  {
   "cell_type": "code",
   "execution_count": 5,
   "metadata": {},
   "outputs": [
    {
     "data": {
      "text/plain": [
       "(512, 512, 4)"
      ]
     },
     "execution_count": 5,
     "metadata": {},
     "output_type": "execute_result"
    }
   ],
   "source": [
    "y = np.array(Image.open(imagename)) / 255\n",
    "y.shape"
   ]
  },
  {
   "cell_type": "code",
   "execution_count": 7,
   "metadata": {},
   "outputs": [
    {
     "ename": "TypeError",
     "evalue": "Invalid shape (512, 512, 512) for image data",
     "output_type": "error",
     "traceback": [
      "\u001b[1;31m---------------------------------------------------------------------------\u001b[0m",
      "\u001b[1;31mTypeError\u001b[0m                                 Traceback (most recent call last)",
      "\u001b[1;32mc:\\Users\\efe\\OneDrive\\Desktop\\PBL6\\Test1\\deepgtv\\1.ipynb Cell 6\u001b[0m line \u001b[0;36m2\n\u001b[0;32m     <a href='vscode-notebook-cell:/c%3A/Users/efe/OneDrive/Desktop/PBL6/Test1/deepgtv/1.ipynb#W5sZmlsZQ%3D%3D?line=17'>18</a>\u001b[0m \u001b[39m# Hiển thị ảnh đã thêm nhiễu\u001b[39;00m\n\u001b[0;32m     <a href='vscode-notebook-cell:/c%3A/Users/efe/OneDrive/Desktop/PBL6/Test1/deepgtv/1.ipynb#W5sZmlsZQ%3D%3D?line=18'>19</a>\u001b[0m plt\u001b[39m.\u001b[39msubplot(\u001b[39m1\u001b[39m, \u001b[39m3\u001b[39m, \u001b[39m3\u001b[39m)\n\u001b[1;32m---> <a href='vscode-notebook-cell:/c%3A/Users/efe/OneDrive/Desktop/PBL6/Test1/deepgtv/1.ipynb#W5sZmlsZQ%3D%3D?line=19'>20</a>\u001b[0m plt\u001b[39m.\u001b[39;49mimshow(noisy_image, cmap\u001b[39m=\u001b[39;49m\u001b[39m'\u001b[39;49m\u001b[39mgray\u001b[39;49m\u001b[39m'\u001b[39;49m)\n\u001b[0;32m     <a href='vscode-notebook-cell:/c%3A/Users/efe/OneDrive/Desktop/PBL6/Test1/deepgtv/1.ipynb#W5sZmlsZQ%3D%3D?line=20'>21</a>\u001b[0m plt\u001b[39m.\u001b[39mtitle(\u001b[39m'\u001b[39m\u001b[39mẢnh đã thêm nhiễu\u001b[39m\u001b[39m'\u001b[39m)\n\u001b[0;32m     <a href='vscode-notebook-cell:/c%3A/Users/efe/OneDrive/Desktop/PBL6/Test1/deepgtv/1.ipynb#W5sZmlsZQ%3D%3D?line=21'>22</a>\u001b[0m plt\u001b[39m.\u001b[39maxis(\u001b[39m'\u001b[39m\u001b[39moff\u001b[39m\u001b[39m'\u001b[39m)\n",
      "File \u001b[1;32md:\\python3.9\\lib\\site-packages\\matplotlib\\pyplot.py:3346\u001b[0m, in \u001b[0;36mimshow\u001b[1;34m(X, cmap, norm, aspect, interpolation, alpha, vmin, vmax, origin, extent, interpolation_stage, filternorm, filterrad, resample, url, data, **kwargs)\u001b[0m\n\u001b[0;32m   3325\u001b[0m \u001b[39m@_copy_docstring_and_deprecators\u001b[39m(Axes\u001b[39m.\u001b[39mimshow)\n\u001b[0;32m   3326\u001b[0m \u001b[39mdef\u001b[39;00m \u001b[39mimshow\u001b[39m(\n\u001b[0;32m   3327\u001b[0m     X: ArrayLike \u001b[39m|\u001b[39m PIL\u001b[39m.\u001b[39mImage\u001b[39m.\u001b[39mImage,\n\u001b[1;32m   (...)\u001b[0m\n\u001b[0;32m   3344\u001b[0m     \u001b[39m*\u001b[39m\u001b[39m*\u001b[39mkwargs,\n\u001b[0;32m   3345\u001b[0m ) \u001b[39m-\u001b[39m\u001b[39m>\u001b[39m AxesImage:\n\u001b[1;32m-> 3346\u001b[0m     __ret \u001b[39m=\u001b[39m gca()\u001b[39m.\u001b[39mimshow(\n\u001b[0;32m   3347\u001b[0m         X,\n\u001b[0;32m   3348\u001b[0m         cmap\u001b[39m=\u001b[39mcmap,\n\u001b[0;32m   3349\u001b[0m         norm\u001b[39m=\u001b[39mnorm,\n\u001b[0;32m   3350\u001b[0m         aspect\u001b[39m=\u001b[39maspect,\n\u001b[0;32m   3351\u001b[0m         interpolation\u001b[39m=\u001b[39minterpolation,\n\u001b[0;32m   3352\u001b[0m         alpha\u001b[39m=\u001b[39malpha,\n\u001b[0;32m   3353\u001b[0m         vmin\u001b[39m=\u001b[39mvmin,\n\u001b[0;32m   3354\u001b[0m         vmax\u001b[39m=\u001b[39mvmax,\n\u001b[0;32m   3355\u001b[0m         origin\u001b[39m=\u001b[39morigin,\n\u001b[0;32m   3356\u001b[0m         extent\u001b[39m=\u001b[39mextent,\n\u001b[0;32m   3357\u001b[0m         interpolation_stage\u001b[39m=\u001b[39minterpolation_stage,\n\u001b[0;32m   3358\u001b[0m         filternorm\u001b[39m=\u001b[39mfilternorm,\n\u001b[0;32m   3359\u001b[0m         filterrad\u001b[39m=\u001b[39mfilterrad,\n\u001b[0;32m   3360\u001b[0m         resample\u001b[39m=\u001b[39mresample,\n\u001b[0;32m   3361\u001b[0m         url\u001b[39m=\u001b[39murl,\n\u001b[0;32m   3362\u001b[0m         \u001b[39m*\u001b[39m\u001b[39m*\u001b[39m({\u001b[39m\"\u001b[39m\u001b[39mdata\u001b[39m\u001b[39m\"\u001b[39m: data} \u001b[39mif\u001b[39;00m data \u001b[39mis\u001b[39;00m \u001b[39mnot\u001b[39;00m \u001b[39mNone\u001b[39;00m \u001b[39melse\u001b[39;00m {}),\n\u001b[0;32m   3363\u001b[0m         \u001b[39m*\u001b[39m\u001b[39m*\u001b[39mkwargs,\n\u001b[0;32m   3364\u001b[0m     )\n\u001b[0;32m   3365\u001b[0m     sci(__ret)\n\u001b[0;32m   3366\u001b[0m     \u001b[39mreturn\u001b[39;00m __ret\n",
      "File \u001b[1;32md:\\python3.9\\lib\\site-packages\\matplotlib\\__init__.py:1492\u001b[0m, in \u001b[0;36m_preprocess_data.<locals>.inner\u001b[1;34m(ax, data, *args, **kwargs)\u001b[0m\n\u001b[0;32m   1489\u001b[0m \u001b[39m@functools\u001b[39m\u001b[39m.\u001b[39mwraps(func)\n\u001b[0;32m   1490\u001b[0m \u001b[39mdef\u001b[39;00m \u001b[39minner\u001b[39m(ax, \u001b[39m*\u001b[39margs, data\u001b[39m=\u001b[39m\u001b[39mNone\u001b[39;00m, \u001b[39m*\u001b[39m\u001b[39m*\u001b[39mkwargs):\n\u001b[0;32m   1491\u001b[0m     \u001b[39mif\u001b[39;00m data \u001b[39mis\u001b[39;00m \u001b[39mNone\u001b[39;00m:\n\u001b[1;32m-> 1492\u001b[0m         \u001b[39mreturn\u001b[39;00m func(ax, \u001b[39m*\u001b[39m\u001b[39mmap\u001b[39m(sanitize_sequence, args), \u001b[39m*\u001b[39m\u001b[39m*\u001b[39mkwargs)\n\u001b[0;32m   1494\u001b[0m     bound \u001b[39m=\u001b[39m new_sig\u001b[39m.\u001b[39mbind(ax, \u001b[39m*\u001b[39margs, \u001b[39m*\u001b[39m\u001b[39m*\u001b[39mkwargs)\n\u001b[0;32m   1495\u001b[0m     auto_label \u001b[39m=\u001b[39m (bound\u001b[39m.\u001b[39marguments\u001b[39m.\u001b[39mget(label_namer)\n\u001b[0;32m   1496\u001b[0m                   \u001b[39mor\u001b[39;00m bound\u001b[39m.\u001b[39mkwargs\u001b[39m.\u001b[39mget(label_namer))\n",
      "File \u001b[1;32md:\\python3.9\\lib\\site-packages\\matplotlib\\axes\\_axes.py:5751\u001b[0m, in \u001b[0;36mAxes.imshow\u001b[1;34m(self, X, cmap, norm, aspect, interpolation, alpha, vmin, vmax, origin, extent, interpolation_stage, filternorm, filterrad, resample, url, **kwargs)\u001b[0m\n\u001b[0;32m   5748\u001b[0m \u001b[39mif\u001b[39;00m aspect \u001b[39mis\u001b[39;00m \u001b[39mnot\u001b[39;00m \u001b[39mNone\u001b[39;00m:\n\u001b[0;32m   5749\u001b[0m     \u001b[39mself\u001b[39m\u001b[39m.\u001b[39mset_aspect(aspect)\n\u001b[1;32m-> 5751\u001b[0m im\u001b[39m.\u001b[39;49mset_data(X)\n\u001b[0;32m   5752\u001b[0m im\u001b[39m.\u001b[39mset_alpha(alpha)\n\u001b[0;32m   5753\u001b[0m \u001b[39mif\u001b[39;00m im\u001b[39m.\u001b[39mget_clip_path() \u001b[39mis\u001b[39;00m \u001b[39mNone\u001b[39;00m:\n\u001b[0;32m   5754\u001b[0m     \u001b[39m# image does not already have clipping set, clip to axes patch\u001b[39;00m\n",
      "File \u001b[1;32md:\\python3.9\\lib\\site-packages\\matplotlib\\image.py:723\u001b[0m, in \u001b[0;36m_ImageBase.set_data\u001b[1;34m(self, A)\u001b[0m\n\u001b[0;32m    721\u001b[0m \u001b[39mif\u001b[39;00m \u001b[39misinstance\u001b[39m(A, PIL\u001b[39m.\u001b[39mImage\u001b[39m.\u001b[39mImage):\n\u001b[0;32m    722\u001b[0m     A \u001b[39m=\u001b[39m pil_to_array(A)  \u001b[39m# Needed e.g. to apply png palette.\u001b[39;00m\n\u001b[1;32m--> 723\u001b[0m \u001b[39mself\u001b[39m\u001b[39m.\u001b[39m_A \u001b[39m=\u001b[39m \u001b[39mself\u001b[39;49m\u001b[39m.\u001b[39;49m_normalize_image_array(A)\n\u001b[0;32m    724\u001b[0m \u001b[39mself\u001b[39m\u001b[39m.\u001b[39m_imcache \u001b[39m=\u001b[39m \u001b[39mNone\u001b[39;00m\n\u001b[0;32m    725\u001b[0m \u001b[39mself\u001b[39m\u001b[39m.\u001b[39mstale \u001b[39m=\u001b[39m \u001b[39mTrue\u001b[39;00m\n",
      "File \u001b[1;32md:\\python3.9\\lib\\site-packages\\matplotlib\\image.py:693\u001b[0m, in \u001b[0;36m_ImageBase._normalize_image_array\u001b[1;34m(A)\u001b[0m\n\u001b[0;32m    691\u001b[0m     A \u001b[39m=\u001b[39m A\u001b[39m.\u001b[39msqueeze(\u001b[39m-\u001b[39m\u001b[39m1\u001b[39m)  \u001b[39m# If just (M, N, 1), assume scalar and apply colormap.\u001b[39;00m\n\u001b[0;32m    692\u001b[0m \u001b[39mif\u001b[39;00m \u001b[39mnot\u001b[39;00m (A\u001b[39m.\u001b[39mndim \u001b[39m==\u001b[39m \u001b[39m2\u001b[39m \u001b[39mor\u001b[39;00m A\u001b[39m.\u001b[39mndim \u001b[39m==\u001b[39m \u001b[39m3\u001b[39m \u001b[39mand\u001b[39;00m A\u001b[39m.\u001b[39mshape[\u001b[39m-\u001b[39m\u001b[39m1\u001b[39m] \u001b[39min\u001b[39;00m [\u001b[39m3\u001b[39m, \u001b[39m4\u001b[39m]):\n\u001b[1;32m--> 693\u001b[0m     \u001b[39mraise\u001b[39;00m \u001b[39mTypeError\u001b[39;00m(\u001b[39mf\u001b[39m\u001b[39m\"\u001b[39m\u001b[39mInvalid shape \u001b[39m\u001b[39m{\u001b[39;00mA\u001b[39m.\u001b[39mshape\u001b[39m}\u001b[39;00m\u001b[39m for image data\u001b[39m\u001b[39m\"\u001b[39m)\n\u001b[0;32m    694\u001b[0m \u001b[39mif\u001b[39;00m A\u001b[39m.\u001b[39mndim \u001b[39m==\u001b[39m \u001b[39m3\u001b[39m:\n\u001b[0;32m    695\u001b[0m     \u001b[39m# If the input data has values outside the valid range (after\u001b[39;00m\n\u001b[0;32m    696\u001b[0m     \u001b[39m# normalisation), we issue a warning and then clip X to the bounds\u001b[39;00m\n\u001b[0;32m    697\u001b[0m     \u001b[39m# - otherwise casting wraps extreme values, hiding outliers and\u001b[39;00m\n\u001b[0;32m    698\u001b[0m     \u001b[39m# making reliable interpretation impossible.\u001b[39;00m\n\u001b[0;32m    699\u001b[0m     high \u001b[39m=\u001b[39m \u001b[39m255\u001b[39m \u001b[39mif\u001b[39;00m np\u001b[39m.\u001b[39missubdtype(A\u001b[39m.\u001b[39mdtype, np\u001b[39m.\u001b[39minteger) \u001b[39melse\u001b[39;00m \u001b[39m1\u001b[39m\n",
      "\u001b[1;31mTypeError\u001b[0m: Invalid shape (512, 512, 512) for image data"
     ]
    },
    {
     "data": {
      "image/png": "[encoded data removed]",
      "text/plain": [
       "<Figure size 640x480 with 3 Axes>"
      ]
     },
     "metadata": {},
     "output_type": "display_data"
    }
   ],
   "source": [
    "noise_type = 'g4w'\n",
    "sigma = 25\n",
    "noise_var = (sigma/255)**2  # Noise variance 25 std\n",
    "seed = 0\n",
    "sz = (512, 512)\n",
    "noisy, _ ,kernel  = get_experiment_noise(noise_type, noise_var, seed, sz)\n",
    "noisy_image = image + noisy\n",
    "plt.subplot(1, 3, 1)\n",
    "plt.imshow(image, cmap='gray')\n",
    "plt.title('Ảnh gốc')\n",
    "plt.axis('off')\n",
    "\n",
    "plt.subplot(1, 3, 2)\n",
    "plt.imshow(kernel, cmap='gray')\n",
    "plt.title('Kernel')\n",
    "plt.axis('off')\n",
    "\n",
    "# Hiển thị ảnh đã thêm nhiễu\n",
    "plt.subplot(1, 3, 3)\n",
    "plt.imshow(noisy_image, cmap='gray')\n",
    "plt.title('Ảnh đã thêm nhiễu')\n",
    "plt.axis('off')\n",
    "\n",
    "plt.show()"
   ]
  }
 ],
 "metadata": {
  "kernelspec": {
   "display_name": "Python 3",
   "language": "python",
   "name": "python3"
  },
  "language_info": {
   "codemirror_mode": {
    "name": "ipython",
    "version": 3
   },
   "file_extension": ".py",
   "mimetype": "text/x-python",
   "name": "python",
   "nbconvert_exporter": "python",
   "pygments_lexer": "ipython3",
   "version": "3.9.0rc2"
  },
  "orig_nbformat": 4
 },
 "nbformat": 4,
 "nbformat_minor": 2
}
