{
 "cells": [
  {
   "cell_type": "code",
   "execution_count": 3,
   "metadata": {},
   "outputs": [],
   "source": [
    "from dgtv.my_dgtv import *\n",
    "from torch.utils.data import Dataset, DataLoader\n",
    "import os\n",
    "import torchvision.transforms as transforms"
   ]
  },
  {
   "cell_type": "code",
   "execution_count": 5,
   "metadata": {},
   "outputs": [
    {
     "name": "stdout",
     "output_type": "stream",
     "text": [
      "Train GTV\n",
      "train_gtv.py --batch 1 --lr 1e-3 --umin 0.01 --umax 100 -m model/GTV.pkl --epoch 5 --train dataset/dataset_structure --width 36\n",
      "CUDA: False\n",
      "Splitting patches...\n",
      "0 1.png torch.Size([3, 243, 36, 36])\n",
      "1 2.png torch.Size([3, 243, 36, 36])\n",
      "2 3.png torch.Size([3, 243, 36, 36])\n",
      "3 4.png torch.Size([3, 243, 36, 36])\n",
      "total:  972\n",
      "OPT created on cuda: False <class 'torch.FloatTensor'>\n",
      "Dataset: 4\n",
      "GTV created on cuda: False\n",
      "batch_size = 1, width = 36, channels = 1, u_min = 0.01, u_max = 100.0, lr = 0.001, momentum = 0.9\n",
      "\tEpoch: 0\n",
      "torch.Size([1, 1, 512, 512])\n",
      "torch.Size([1, 1, 512, 512])\n"
     ]
    },
    {
     "name": "stderr",
     "output_type": "stream",
     "text": [
      "Traceback (most recent call last):\n",
      "  File \"d:\\Ky7\\PBL6-v1\\deepgtv\\train_gtv.py\", line 282, in <module>\n",
      "    main(\n",
      "  File \"d:\\Ky7\\PBL6-v1\\deepgtv\\train_gtv.py\", line 118, in main\n",
      "    outputs = gtv(inputs, debug=0)\n",
      "  File \"C:\\Users\\Lenovo\\AppData\\Roaming\\Python\\Python310\\site-packages\\torch\\nn\\modules\\module.py\", line 1501, in _call_impl\n",
      "    return forward_call(*args, **kwargs)\n",
      "  File \"d:\\Ky7\\PBL6-v1\\deepgtv\\dgtv\\dgtv.py\", line 402, in forward\n",
      "    u = self.cnnu.forward(xf)\n",
      "  File \"d:\\Ky7\\PBL6-v1\\deepgtv\\dgtv\\dgtv.py\", line 99, in forward\n",
      "    out = self.fc(out)\n",
      "  File \"C:\\Users\\Lenovo\\AppData\\Roaming\\Python\\Python310\\site-packages\\torch\\nn\\modules\\module.py\", line 1501, in _call_impl\n",
      "    return forward_call(*args, **kwargs)\n",
      "  File \"C:\\Users\\Lenovo\\AppData\\Roaming\\Python\\Python310\\site-packages\\torch\\nn\\modules\\container.py\", line 217, in forward\n",
      "    input = module(input)\n",
      "  File \"C:\\Users\\Lenovo\\AppData\\Roaming\\Python\\Python310\\site-packages\\torch\\nn\\modules\\module.py\", line 1501, in _call_impl\n",
      "    return forward_call(*args, **kwargs)\n",
      "  File \"C:\\Users\\Lenovo\\AppData\\Roaming\\Python\\Python310\\site-packages\\torch\\nn\\modules\\linear.py\", line 114, in forward\n",
      "    return F.linear(input, self.weight, self.bias)\n",
      "RuntimeError: mat1 and mat2 shapes cannot be multiplied (1x34848 and 288x32)\n"
     ]
    }
   ],
   "source": [
    "!python train_gtv.py --batch 1 --lr 1e-3 --umin 0.01 --umax 100 -m model/GTV.pkl --epoch 5 --train dataset/dataset_structure --width 36"
   ]
  },
  {
   "cell_type": "code",
   "execution_count": null,
   "metadata": {},
   "outputs": [],
   "source": []
  }
 ],
 "metadata": {
  "kernelspec": {
   "display_name": "Python 3 (ipykernel)",
   "language": "python",
   "name": "python3"
  },
  "language_info": {
   "codemirror_mode": {
    "name": "ipython",
    "version": 3
   },
   "file_extension": ".py",
   "mimetype": "text/x-python",
   "name": "python",
   "nbconvert_exporter": "python",
   "pygments_lexer": "ipython3",
   "version": "3.10.7"
  }
 },
 "nbformat": 4,
 "nbformat_minor": 4
}
