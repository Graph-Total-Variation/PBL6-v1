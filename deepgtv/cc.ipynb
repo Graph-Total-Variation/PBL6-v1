{
 "cells": [
  {
   "cell_type": "code",
   "execution_count": 1,
   "metadata": {},
   "outputs": [],
   "source": [
    "from dgtv.dgtv import *\n",
    "from torch.utils.data import Dataset, DataLoader\n",
    "import os\n",
    "import torchvision.transforms as transforms"
   ]
  },
  {
   "cell_type": "code",
   "execution_count": 2,
   "metadata": {},
   "outputs": [
    {
     "name": "stdout",
     "output_type": "stream",
     "text": [
      "Train GTV\n",
      "train_gtv.py --batch 1 --lr 1e-3 --umin 0.01 --umax 100 -m model/GTV.pkl --epoch 5 --train dataset/dataset_structure --width 36\n",
      "CUDA: False\n",
      "Splitting patches...\n",
      "0 1.png torch.Size([3, 729, 36, 36])\n",
      "1 2.png torch.Size([3, 729, 36, 36])\n",
      "2 3.png torch.Size([3, 729, 36, 36])\n",
      "3 4.png torch.Size([3, 729, 36, 36])\n",
      "total:  2916\n",
      "OPT created on cuda: False <class 'torch.FloatTensor'>\n",
      "Dataset: 2916\n",
      "GTV created on cuda: False\n",
      "batch_size = 1, width = 36, channels = 1, u_min = 0.01, u_max = 100.0, lr = 0.001, momentum = 0.9\n"
     ]
    },
    {
     "name": "stderr",
     "output_type": "stream",
     "text": [
      "Traceback (most recent call last):\n",
      "  File \"D:\\Ky7\\PBL6-v1\\deepgtv\\train_gtv.py\", line 275, in <module>\n",
      "    main(\n",
      "  File \"D:\\Ky7\\PBL6-v1\\deepgtv\\train_gtv.py\", line 112, in main\n",
      "    outputs = gtv(inputs, debug=0)\n",
      "  File \"C:\\Users\\Lenovo\\AppData\\Roaming\\Python\\Python310\\site-packages\\torch\\nn\\modules\\module.py\", line 1501, in _call_impl\n",
      "    return forward_call(*args, **kwargs)\n",
      "  File \"D:\\Ky7\\PBL6-v1\\deepgtv\\dgtv\\dgtv.py\", line 415, in forward\n",
      "    W[:, :, self.opt.connectivity_idx[0], self.opt.connectivity_idx[1]] = w.view(\n",
      "RuntimeError: shape '[1, 3, -1]' is invalid for input of size 4970\n"
     ]
    }
   ],
   "source": [
    "!python train_gtv.py --batch 1 --lr 1e-3 --umin 0.01 --umax 100 -m model/GTV.pkl --epoch 5 --train dataset/dataset_structure --width 36"
   ]
  },
  {
   "cell_type": "code",
   "execution_count": null,
   "metadata": {},
   "outputs": [],
   "source": []
  }
 ],
 "metadata": {
  "kernelspec": {
   "display_name": "Python 3 (ipykernel)",
   "language": "python",
   "name": "python3"
  },
  "language_info": {
   "codemirror_mode": {
    "name": "ipython",
    "version": 3
   },
   "file_extension": ".py",
   "mimetype": "text/x-python",
   "name": "python",
   "nbconvert_exporter": "python",
   "pygments_lexer": "ipython3",
   "version": "3.10.7"
  }
 },
 "nbformat": 4,
 "nbformat_minor": 4
}
