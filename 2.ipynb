{
 "cells": [
  {
   "cell_type": "code",
   "execution_count": 1,
   "metadata": {},
   "outputs": [],
   "source": [
    "from deepgtv.runcc import *"
   ]
  },
  {
   "cell_type": "code",
   "execution_count": 4,
   "metadata": {},
   "outputs": [],
   "source": [
    "gtv_model = load_gtv_model(\"deepgtv/model/GTV_99.pkl\")"
   ]
  },
  {
   "cell_type": "code",
   "execution_count": 7,
   "metadata": {},
   "outputs": [],
   "source": [
    "imr=\"deepgtv/dataset/Test/Test_5/noisy/4.png\"\n",
    "imp = \"deepgtv/dataset/Bao/63.png\"\n",
    "img1 = \"uploads/temp.png\"\n",
    "data = denoise_image(imp,gtv_model, stride = 8, prefix= \"img1_\")"
   ]
  },
  {
   "cell_type": "code",
   "execution_count": 17,
   "metadata": {},
   "outputs": [],
   "source": [
    "from main import *"
   ]
  },
  {
   "cell_type": "code",
   "execution_count": 10,
   "metadata": {},
   "outputs": [],
   "source": [
    "sample = cv2.imread(imp)\n",
    "link = upload_save(sample,image_name=\"temp1\")"
   ]
  },
  {
   "cell_type": "code",
   "execution_count": 11,
   "metadata": {},
   "outputs": [
    {
     "data": {
      "text/plain": [
       "'https://firebasestorage.googleapis.com/v0/b/pbl6-a6a2b.appspot.com/o/temp1?alt=media&token=temp1'"
      ]
     },
     "execution_count": 11,
     "metadata": {},
     "output_type": "execute_result"
    }
   ],
   "source": [
    "link"
   ]
  },
  {
   "cell_type": "code",
   "execution_count": 22,
   "metadata": {},
   "outputs": [
    {
     "name": "stdout",
     "output_type": "stream",
     "text": [
      "https://firebasestorage.googleapis.com/v0/b/pbl6-a6a2b.appspot.com/o/temp2?alt=media&token=temp2\n"
     ]
    }
   ],
   "source": [
    "image_name = \"temp2\"\n",
    "storage.child(image_name).put(img1, content_type=\"image/png\")\n",
    "image_url = storage.child(image_name).get_url(image_name)\n",
    "print(image_url)"
   ]
  }
 ],
 "metadata": {
  "kernelspec": {
   "display_name": "Python 3",
   "language": "python",
   "name": "python3"
  },
  "language_info": {
   "codemirror_mode": {
    "name": "ipython",
    "version": 3
   },
   "file_extension": ".py",
   "mimetype": "text/x-python",
   "name": "python",
   "nbconvert_exporter": "python",
   "pygments_lexer": "ipython3",
   "version": "3.10.7"
  },
  "orig_nbformat": 4
 },
 "nbformat": 4,
 "nbformat_minor": 2
}
