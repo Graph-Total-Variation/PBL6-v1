{
 "cells": [
  {
   "cell_type": "code",
   "execution_count": 1,
   "metadata": {},
   "outputs": [],
   "source": [
    "import numpy as np\n",
    "import scipy.sparse as ss"
   ]
  },
  {
   "cell_type": "code",
   "execution_count": 2,
   "metadata": {},
   "outputs": [
    {
     "name": "stdout",
     "output_type": "stream",
     "text": [
      "[1. 1. 0. 1. 1. 0. 1. 1.]\n",
      "(8,)\n",
      "[1. 1. 1. 1. 1. 1.]\n",
      "(6,)\n",
      "  (0, 1)\t1.0\n",
      "  (1, 2)\t1.0\n",
      "  (3, 4)\t1.0\n",
      "  (4, 5)\t1.0\n",
      "  (6, 7)\t1.0\n",
      "  (7, 8)\t1.0\n",
      "  (0, 3)\t1.0\n",
      "  (1, 4)\t1.0\n",
      "  (2, 5)\t1.0\n",
      "  (3, 6)\t1.0\n",
      "  (4, 7)\t1.0\n",
      "  (5, 8)\t1.0\n",
      "(9, 9)\n",
      "  (0, 1)\t1.0\n",
      "  (1, 2)\t1.0\n",
      "  (3, 4)\t1.0\n",
      "  (4, 5)\t1.0\n",
      "  (6, 7)\t1.0\n",
      "  (7, 8)\t1.0\n",
      "  (0, 3)\t1.0\n",
      "  (1, 4)\t1.0\n",
      "  (2, 5)\t1.0\n",
      "  (3, 6)\t1.0\n",
      "  (4, 7)\t1.0\n",
      "  (5, 8)\t1.0\n",
      "  (1, 0)\t1.0\n",
      "  (2, 1)\t1.0\n",
      "  (4, 3)\t1.0\n",
      "  (5, 4)\t1.0\n",
      "  (7, 6)\t1.0\n",
      "  (8, 7)\t1.0\n",
      "  (3, 0)\t1.0\n",
      "  (4, 1)\t1.0\n",
      "  (5, 2)\t1.0\n",
      "  (6, 3)\t1.0\n",
      "  (7, 4)\t1.0\n",
      "  (8, 5)\t1.0\n",
      "[[0 1]\n",
      " [0 3]\n",
      " [1 2]\n",
      " [1 4]\n",
      " [2 5]\n",
      " [3 4]\n",
      " [3 6]\n",
      " [4 5]\n",
      " [4 7]\n",
      " [5 8]\n",
      " [6 7]\n",
      " [7 8]]\n",
      "(12, 2)\n"
     ]
    }
   ],
   "source": [
    "def connected_adjacency(image, connect=8, patch_size=(1, 1)):\n",
    "    \"\"\"\n",
    "    Construct 8-connected pixels base graph (0 for not connected, 1 for connected)\n",
    "    \"\"\"\n",
    "    r, c = image.shape[:2]\n",
    "    r = int(r / patch_size[0])\n",
    "    c = int(c / patch_size[1])\n",
    "\n",
    "    if connect == \"4\":\n",
    "        # constructed from 2 diagonals above the main diagonal\n",
    "        d1 = np.tile(np.append(np.ones(c - 1), [0]), r)[:-1]\n",
    "        print(d1)\n",
    "        \n",
    "        print(d1.shape)\n",
    "        \n",
    "        d2 = np.ones(c * (r - 1))\n",
    "        print(d2)\n",
    "        \n",
    "        print(d2.shape)\n",
    "        \n",
    "        upper_diags = ss.diags([d1, d2], [1, c])\n",
    "        print(upper_diags)\n",
    "        \n",
    "        print(upper_diags.shape)\n",
    "        \n",
    "        print(upper_diags + upper_diags.T)\n",
    "        \n",
    "        return upper_diags + upper_diags.T\n",
    "width = 3\n",
    "pixel_indices = [i for i in range(width * width)]\n",
    "pixel_indices = np.reshape(pixel_indices, (width, width))\n",
    "A = connected_adjacency(pixel_indices,\"4\",(1,1))\n",
    "A_pair = np.asarray(np.where(A.toarray() == 1)).T\n",
    "A_pair = np.unique(np.sort(A_pair, axis=1), axis=0)\n",
    "print(A_pair)\n",
    "print(A_pair.shape)\n"
   ]
  },
  {
   "cell_type": "code",
   "execution_count": 3,
   "metadata": {},
   "outputs": [
    {
     "name": "stdout",
     "output_type": "stream",
     "text": [
      "(395, 687, 4)\n",
      "(395, 687)\n",
      "(395, 687, 1)\n"
     ]
    }
   ],
   "source": [
    "from PIL import Image\n",
    "import cv2\n",
    "import numpy as np\n",
    "import torch\n",
    "img = np.array(Image.open(\"deepgtv\\legacy\\diff_stat.png\"))\n",
    "print(img.shape)\n",
    "img = cv2.cvtColor(img, cv2.COLOR_BGR2GRAY)\n",
    "print(img.shape)\n",
    "img = np.expand_dims(img, axis=2)\n",
    "print(img.shape)\n"
   ]
  }
 ],
 "metadata": {
  "kernelspec": {
   "display_name": "Python 3",
   "language": "python",
   "name": "python3"
  },
  "language_info": {
   "codemirror_mode": {
    "name": "ipython",
    "version": 3
   },
   "file_extension": ".py",
   "mimetype": "text/x-python",
   "name": "python",
   "nbconvert_exporter": "python",
   "pygments_lexer": "ipython3",
   "version": "3.10.7"
  },
  "orig_nbformat": 4
 },
 "nbformat": 4,
 "nbformat_minor": 2
}
