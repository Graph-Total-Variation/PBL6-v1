{
 "cells": [
  {
   "cell_type": "code",
   "execution_count": 2,
   "metadata": {},
   "outputs": [],
   "source": [
    "import numpy as np\n",
    "import scipy.sparse as ss"
   ]
  },
  {
   "cell_type": "code",
   "execution_count": 11,
   "metadata": {},
   "outputs": [
    {
     "name": "stdout",
     "output_type": "stream",
     "text": [
      "<class 'numpy.ndarray'>\n",
      "(24, 2)\n"
     ]
    }
   ],
   "source": [
    "def connected_adjacency(image, connect=8, patch_size=(1, 1)):\n",
    "    \"\"\"\n",
    "    Construct 8-connected pixels base graph (0 for not connected, 1 for connected)\n",
    "    \"\"\"\n",
    "    r, c = image.shape[:2]\n",
    "    r = int(r / patch_size[0])\n",
    "    c = int(c / patch_size[1])\n",
    "\n",
    "    if connect == \"4\":\n",
    "        # constructed from 2 diagonals above the main diagonal\n",
    "        d1 = np.tile(np.append(np.ones(c - 1), [0]), r)[:-1]\n",
    "        # print(d1.shape)\n",
    "        \n",
    "        d2 = np.ones(c * (r - 1))\n",
    "        # print(d2.shape)\n",
    "        upper_diags = ss.diags([d1, d2], [1, c])\n",
    "        # print(upper_diags.shape)\n",
    "        # print(upper_diags.T.shape)\n",
    "        # print((upper_diags + upper_diags.T).shape)\n",
    "        return upper_diags + upper_diags.T\n",
    "width = 3\n",
    "pixel_indices = [i for i in range(width * width)]\n",
    "pixel_indices = np.reshape(pixel_indices, (width, width))\n",
    "A = connected_adjacency(pixel_indices,\"4\",(1,1))\n",
    "A_pair = np.asarray(np.where(A.toarray() == 1)).T\n",
    "print(type(A_pair))\n",
    "print(A_pair.shape)\n",
    "# print(np.sort(A_pair, axis=1))\n",
    "A_pair = np.unique(np.sort(A_pair, axis=1), axis=0)\n",
    "# print(A_pair)\n",
    "# print(A_pair.shape)\n",
    "# print(type(A_pair))\n",
    "edges = A_pair.shape[0]\n",
    "H_dim0 = edges\n",
    "H_dim1 = width ** 2\n",
    "\n",
    "\n"
   ]
  },
  {
   "cell_type": "code",
   "execution_count": 8,
   "metadata": {},
   "outputs": [
    {
     "name": "stdout",
     "output_type": "stream",
     "text": [
      "(395, 687, 4)\n",
      "(395, 687)\n",
      "(395, 687, 1)\n"
     ]
    }
   ],
   "source": [
    "from PIL import Image\n",
    "import cv2\n",
    "import numpy as np\n",
    "import torch\n",
    "img = np.array(Image.open(\"deepgtv\\legacy\\diff_stat.png\"))\n",
    "print(img.shape)\n",
    "img = cv2.cvtColor(img, cv2.COLOR_BGR2GRAY)\n",
    "print(img.shape)\n",
    "img = np.expand_dims(img, axis=2)\n",
    "print(img.shape)\n"
   ]
  },
  {
   "cell_type": "code",
   "execution_count": 17,
   "metadata": {},
   "outputs": [
    {
     "name": "stdout",
     "output_type": "stream",
     "text": [
      "  (0, 1)\t1.0\n",
      "  (1, 2)\t2.0\n",
      "  (2, 3)\t3.0\n",
      "  (0, 2)\t4.0\n",
      "  (1, 3)\t5.0\n"
     ]
    }
   ],
   "source": [
    "import scipy.sparse as ss\n",
    "import numpy as np\n",
    "\n",
    "# Tạo danh sách đường chéo và vị trí của chúng\n",
    "diagonals = [np.array([1, 2, 3]), np.array([4, 5, 6])]\n",
    "offsets = [1, 2]\n",
    "\n",
    "# Sử dụng ss.diags để tạo ma trận thưa\n",
    "sparse_matrix = ss.diags(diagonals, offsets)\n",
    "\n",
    "# In ma trận thưa\n",
    "print(sparse_matrix)\n"
   ]
  },
  {
   "cell_type": "code",
   "execution_count": 52,
   "metadata": {},
   "outputs": [
    {
     "name": "stdout",
     "output_type": "stream",
     "text": [
      "[1 2 3 4 5 6 7 8 9]\n",
      "\n",
      "[[1 2 2 3]\n",
      " [4 5 6 4]\n",
      " [7 8 9 7]]\n",
      "\n",
      "[[1 2 2 3]\n",
      " [4 5 6 4]\n",
      " [7 8 9 7]]\n"
     ]
    }
   ],
   "source": [
    "import numpy as np\n",
    "\n",
    "# Tạo một mảng NumPy hai chiều\n",
    "arr = np.array([[1, 2, 2, 3], [4, 5, 6, 4], [7, 8, 9, 7]])\n",
    "\n",
    "# Sử dụng np.unique() để tìm các giá trị duy nhất trên toàn mảng\n",
    "unique_values = np.unique(arr)\n",
    "\n",
    "print(unique_values)\n",
    "print()\n",
    "unique_values_axis0 = np.unique(arr, axis=0)\n",
    "\n",
    "print(unique_values_axis0)\n",
    "print()\n",
    "unique_values_axis1 = np.unique(arr, axis=1)\n",
    "\n",
    "print(unique_values_axis1)\n",
    "\n"
   ]
  },
  {
   "cell_type": "code",
   "execution_count": 27,
   "metadata": {},
   "outputs": [
    {
     "name": "stdout",
     "output_type": "stream",
     "text": [
      "tensor([[[0]]])\n",
      "torch.Size([1, 1, 1])\n"
     ]
    }
   ],
   "source": [
    "import torch\n",
    "\n",
    "# Tạo một tensor\n",
    "x = torch.tensor([-10])\n",
    "\n",
    "# Thêm một chiều có kích thước 1 vào tensor\n",
    "y = x.unsqueeze(1).unsqueeze(1)\n",
    "y = torch.clamp(y, 0, 50)\n",
    "print(y)\n",
    "print(y.shape)\n"
   ]
  },
  {
   "cell_type": "code",
   "execution_count": 4,
   "metadata": {},
   "outputs": [
    {
     "name": "stdout",
     "output_type": "stream",
     "text": [
      "Đã đổi tên các file thành công.\n"
     ]
    }
   ],
   "source": [
    "import os\n",
    "\n",
    "folder_path = \"C:/Users/efe/OneDrive/Desktop/dicom_data_zip/DICOM/ST00001/SE00001\"\n",
    "\n",
    "# Duyệt qua tất cả các file trong thư mục\n",
    "for filename in os.listdir(folder_path):\n",
    "    # Tạo đường dẫn tuyệt đối đầy đủ cho mỗi file\n",
    "    filepath = os.path.join(folder_path, filename)\n",
    "\n",
    "    # Nếu là file (không phải thư mục)\n",
    "    if os.path.isfile(filepath):\n",
    "        # Tạo tên mới với định dạng .dicom\n",
    "        new_filename = os.path.splitext(filename)[0] + \".dicom\"\n",
    "\n",
    "        # Tạo đường dẫn mới cho file\n",
    "        new_filepath = os.path.join(folder_path, new_filename)\n",
    "\n",
    "        # Đổi tên file\n",
    "        os.rename(filepath, new_filepath)\n",
    "\n",
    "print(\"Đã đổi tên các file thành công.\")"
   ]
  }
 ],
 "metadata": {
  "kernelspec": {
   "display_name": "Python 3",
   "language": "python",
   "name": "python3"
  },
  "language_info": {
   "codemirror_mode": {
    "name": "ipython",
    "version": 3
   },
   "file_extension": ".py",
   "mimetype": "text/x-python",
   "name": "python",
   "nbconvert_exporter": "python",
   "pygments_lexer": "ipython3",
   "version": "3.9.0"
  },
  "orig_nbformat": 4
 },
 "nbformat": 4,
 "nbformat_minor": 2
}
