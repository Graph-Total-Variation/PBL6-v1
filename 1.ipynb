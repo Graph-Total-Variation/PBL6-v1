{
 "cells": [
  {
   "cell_type": "code",
   "execution_count": 3,
   "metadata": {},
   "outputs": [],
   "source": [
    "import numpy as np\n",
    "import scipy.sparse as ss"
   ]
  },
  {
   "cell_type": "code",
   "execution_count": 15,
   "metadata": {},
   "outputs": [
    {
     "name": "stdout",
     "output_type": "stream",
     "text": [
      "[1. 1. 0. 1. 1. 0. 1. 1.]\n",
      "(8,)\n",
      "[1. 1. 1. 1. 1. 1.]\n",
      "(6,)\n",
      "  (0, 1)\t1.0\n",
      "  (1, 2)\t1.0\n",
      "  (3, 4)\t1.0\n",
      "  (4, 5)\t1.0\n",
      "  (6, 7)\t1.0\n",
      "  (7, 8)\t1.0\n",
      "  (0, 3)\t1.0\n",
      "  (1, 4)\t1.0\n",
      "  (2, 5)\t1.0\n",
      "  (3, 6)\t1.0\n",
      "  (4, 7)\t1.0\n",
      "  (5, 8)\t1.0\n",
      "(9, 9)\n",
      "  (0, 1)\t1.0\n",
      "  (1, 2)\t1.0\n",
      "  (3, 4)\t1.0\n",
      "  (4, 5)\t1.0\n",
      "  (6, 7)\t1.0\n",
      "  (7, 8)\t1.0\n",
      "  (0, 3)\t1.0\n",
      "  (1, 4)\t1.0\n",
      "  (2, 5)\t1.0\n",
      "  (3, 6)\t1.0\n",
      "  (4, 7)\t1.0\n",
      "  (5, 8)\t1.0\n",
      "  (1, 0)\t1.0\n",
      "  (2, 1)\t1.0\n",
      "  (4, 3)\t1.0\n",
      "  (5, 4)\t1.0\n",
      "  (7, 6)\t1.0\n",
      "  (8, 7)\t1.0\n",
      "  (3, 0)\t1.0\n",
      "  (4, 1)\t1.0\n",
      "  (5, 2)\t1.0\n",
      "  (6, 3)\t1.0\n",
      "  (7, 4)\t1.0\n",
      "  (8, 5)\t1.0\n",
      "[[0 1]\n",
      " [0 3]\n",
      " [1 2]\n",
      " [1 4]\n",
      " [2 5]\n",
      " [3 4]\n",
      " [3 6]\n",
      " [4 5]\n",
      " [4 7]\n",
      " [5 8]\n",
      " [6 7]\n",
      " [7 8]]\n",
      "(12, 2)\n"
     ]
    }
   ],
   "source": [
    "def connected_adjacency(image, connect=8, patch_size=(1, 1)):\n",
    "    \"\"\"\n",
    "    Construct 8-connected pixels base graph (0 for not connected, 1 for connected)\n",
    "    \"\"\"\n",
    "    r, c = image.shape[:2]\n",
    "    r = int(r / patch_size[0])\n",
    "    c = int(c / patch_size[1])\n",
    "\n",
    "    if connect == \"4\":\n",
    "        # constructed from 2 diagonals above the main diagonal\n",
    "        d1 = np.tile(np.append(np.ones(c - 1), [0]), r)[:-1]\n",
    "        print(d1)\n",
    "        \n",
    "        print(d1.shape)\n",
    "        \n",
    "        d2 = np.ones(c * (r - 1))\n",
    "        print(d2)\n",
    "        \n",
    "        print(d2.shape)\n",
    "        \n",
    "        upper_diags = ss.diags([d1, d2], [1, c])\n",
    "        print(upper_diags)\n",
    "        \n",
    "        print(upper_diags.shape)\n",
    "        \n",
    "        print(upper_diags + upper_diags.T)\n",
    "        \n",
    "        return upper_diags + upper_diags.T\n",
    "width = 3\n",
    "pixel_indices = [i for i in range(width * width)]\n",
    "pixel_indices = np.reshape(pixel_indices, (width, width))\n",
    "A = connected_adjacency(pixel_indices,\"4\",(1,1))\n",
    "A_pair = np.asarray(np.where(A.toarray() == 1)).T\n",
    "A_pair = np.unique(np.sort(A_pair, axis=1), axis=0)\n",
    "print(A_pair)\n",
    "print(A_pair.shape)\n"
   ]
  },
  {
   "cell_type": "code",
   "execution_count": 2,
   "metadata": {},
   "outputs": [
    {
     "ename": "AttributeError",
     "evalue": "shape",
     "output_type": "error",
     "traceback": [
      "\u001b[1;31m---------------------------------------------------------------------------\u001b[0m",
      "\u001b[1;31mAttributeError\u001b[0m                            Traceback (most recent call last)",
      "\u001b[1;32mc:\\Users\\efe\\OneDrive\\Desktop\\PBL6\\PBL6-v1\\1.ipynb Cell 3\u001b[0m line \u001b[0;36m4\n\u001b[0;32m      <a href='vscode-notebook-cell:/c%3A/Users/efe/OneDrive/Desktop/PBL6/PBL6-v1/1.ipynb#W2sZmlsZQ%3D%3D?line=1'>2</a>\u001b[0m \u001b[39mimport\u001b[39;00m \u001b[39mcv2\u001b[39;00m\n\u001b[0;32m      <a href='vscode-notebook-cell:/c%3A/Users/efe/OneDrive/Desktop/PBL6/PBL6-v1/1.ipynb#W2sZmlsZQ%3D%3D?line=2'>3</a>\u001b[0m img \u001b[39m=\u001b[39m Image\u001b[39m.\u001b[39mopen(\u001b[39m\"\u001b[39m\u001b[39mdeepgtv\u001b[39m\u001b[39m\\\u001b[39m\u001b[39mlegacy\u001b[39m\u001b[39m\\\u001b[39m\u001b[39mdiff_stat.png\u001b[39m\u001b[39m\"\u001b[39m)\n\u001b[1;32m----> <a href='vscode-notebook-cell:/c%3A/Users/efe/OneDrive/Desktop/PBL6/PBL6-v1/1.ipynb#W2sZmlsZQ%3D%3D?line=3'>4</a>\u001b[0m img\u001b[39m.\u001b[39;49mshape\n",
      "File \u001b[1;32md:\\python3.9\\lib\\site-packages\\PIL\\Image.py:528\u001b[0m, in \u001b[0;36mImage.__getattr__\u001b[1;34m(self, name)\u001b[0m\n\u001b[0;32m    526\u001b[0m     deprecate(\u001b[39m\"\u001b[39m\u001b[39mImage categories\u001b[39m\u001b[39m\"\u001b[39m, \u001b[39m10\u001b[39m, \u001b[39m\"\u001b[39m\u001b[39mis_animated\u001b[39m\u001b[39m\"\u001b[39m, plural\u001b[39m=\u001b[39m\u001b[39mTrue\u001b[39;00m)\n\u001b[0;32m    527\u001b[0m     \u001b[39mreturn\u001b[39;00m \u001b[39mself\u001b[39m\u001b[39m.\u001b[39m_category\n\u001b[1;32m--> 528\u001b[0m \u001b[39mraise\u001b[39;00m \u001b[39mAttributeError\u001b[39;00m(name)\n",
      "\u001b[1;31mAttributeError\u001b[0m: shape"
     ]
    }
   ],
   "source": [
    "from PIL import Image\n",
    "import cv2\n",
    "import numpy as np\n",
    "img = np.array(Image.open(\"deepgtv\\legacy\\diff_stat.png\"))\n",
    "img.shape"
   ]
  }
 ],
 "metadata": {
  "kernelspec": {
   "display_name": "Python 3",
   "language": "python",
   "name": "python3"
  },
  "language_info": {
   "codemirror_mode": {
    "name": "ipython",
    "version": 3
   },
   "file_extension": ".py",
   "mimetype": "text/x-python",
   "name": "python",
   "nbconvert_exporter": "python",
   "pygments_lexer": "ipython3",
   "version": "3.9.0rc2"
  },
  "orig_nbformat": 4
 },
 "nbformat": 4,
 "nbformat_minor": 2
}
